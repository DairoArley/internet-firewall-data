{
  "nbformat": 4,
  "nbformat_minor": 0,
  "metadata": {
    "kernelspec": {
      "display_name": "Python 3",
      "language": "python",
      "name": "python3"
    },
    "language_info": {
      "codemirror_mode": {
        "name": "ipython",
        "version": 3
      },
      "file_extension": ".py",
      "mimetype": "text/x-python",
      "name": "python",
      "nbconvert_exporter": "python",
      "pygments_lexer": "ipython3",
      "version": "3.6.9"
    },
    "colab": {
      "name": "codigo.ipynb",
      "provenance": [],
      "collapsed_sections": []
    }
  },
  "cells": [
    {
      "cell_type": "code",
      "metadata": {
        "colab": {
          "base_uri": "https://localhost:8080/",
          "height": 229
        },
        "id": "ldYzs2xQvc9E",
        "outputId": "841eb155-2cdb-4b00-d9f3-ed4659c1740f"
      },
      "source": [
        "import pandas as pd\r\n",
        "url = 'https://raw.githubusercontent.com/DairoArley/internet-firewall-data/main/log2.csv'\r\n",
        "df = pd.read_csv(url)\r\n",
        "##type(df)\r\n",
        "##print(pd.unique(df[\"Action\"]))\r\n",
        "df.head()\r\n"
      ],
      "execution_count": 1,
      "outputs": [
        {
          "output_type": "execute_result",
          "data": {
            "text/html": [
              "<div>\n",
              "<style scoped>\n",
              "    .dataframe tbody tr th:only-of-type {\n",
              "        vertical-align: middle;\n",
              "    }\n",
              "\n",
              "    .dataframe tbody tr th {\n",
              "        vertical-align: top;\n",
              "    }\n",
              "\n",
              "    .dataframe thead th {\n",
              "        text-align: right;\n",
              "    }\n",
              "</style>\n",
              "<table border=\"1\" class=\"dataframe\">\n",
              "  <thead>\n",
              "    <tr style=\"text-align: right;\">\n",
              "      <th></th>\n",
              "      <th>Source Port</th>\n",
              "      <th>Destination Port</th>\n",
              "      <th>NAT Source Port</th>\n",
              "      <th>NAT Destination Port</th>\n",
              "      <th>Action</th>\n",
              "      <th>Bytes</th>\n",
              "      <th>Bytes Sent</th>\n",
              "      <th>Bytes Received</th>\n",
              "      <th>Packets</th>\n",
              "      <th>Elapsed Time (sec)</th>\n",
              "      <th>pkts_sent</th>\n",
              "      <th>pkts_received</th>\n",
              "    </tr>\n",
              "  </thead>\n",
              "  <tbody>\n",
              "    <tr>\n",
              "      <th>0</th>\n",
              "      <td>57222</td>\n",
              "      <td>53</td>\n",
              "      <td>54587</td>\n",
              "      <td>53</td>\n",
              "      <td>allow</td>\n",
              "      <td>177</td>\n",
              "      <td>94</td>\n",
              "      <td>83</td>\n",
              "      <td>2</td>\n",
              "      <td>30</td>\n",
              "      <td>1</td>\n",
              "      <td>1</td>\n",
              "    </tr>\n",
              "    <tr>\n",
              "      <th>1</th>\n",
              "      <td>56258</td>\n",
              "      <td>3389</td>\n",
              "      <td>56258</td>\n",
              "      <td>3389</td>\n",
              "      <td>allow</td>\n",
              "      <td>4768</td>\n",
              "      <td>1600</td>\n",
              "      <td>3168</td>\n",
              "      <td>19</td>\n",
              "      <td>17</td>\n",
              "      <td>10</td>\n",
              "      <td>9</td>\n",
              "    </tr>\n",
              "    <tr>\n",
              "      <th>2</th>\n",
              "      <td>6881</td>\n",
              "      <td>50321</td>\n",
              "      <td>43265</td>\n",
              "      <td>50321</td>\n",
              "      <td>allow</td>\n",
              "      <td>238</td>\n",
              "      <td>118</td>\n",
              "      <td>120</td>\n",
              "      <td>2</td>\n",
              "      <td>1199</td>\n",
              "      <td>1</td>\n",
              "      <td>1</td>\n",
              "    </tr>\n",
              "    <tr>\n",
              "      <th>3</th>\n",
              "      <td>50553</td>\n",
              "      <td>3389</td>\n",
              "      <td>50553</td>\n",
              "      <td>3389</td>\n",
              "      <td>allow</td>\n",
              "      <td>3327</td>\n",
              "      <td>1438</td>\n",
              "      <td>1889</td>\n",
              "      <td>15</td>\n",
              "      <td>17</td>\n",
              "      <td>8</td>\n",
              "      <td>7</td>\n",
              "    </tr>\n",
              "    <tr>\n",
              "      <th>4</th>\n",
              "      <td>50002</td>\n",
              "      <td>443</td>\n",
              "      <td>45848</td>\n",
              "      <td>443</td>\n",
              "      <td>allow</td>\n",
              "      <td>25358</td>\n",
              "      <td>6778</td>\n",
              "      <td>18580</td>\n",
              "      <td>31</td>\n",
              "      <td>16</td>\n",
              "      <td>13</td>\n",
              "      <td>18</td>\n",
              "    </tr>\n",
              "  </tbody>\n",
              "</table>\n",
              "</div>"
            ],
            "text/plain": [
              "   Source Port  Destination Port  ...  pkts_sent  pkts_received\n",
              "0        57222                53  ...          1              1\n",
              "1        56258              3389  ...         10              9\n",
              "2         6881             50321  ...          1              1\n",
              "3        50553              3389  ...          8              7\n",
              "4        50002               443  ...         13             18\n",
              "\n",
              "[5 rows x 12 columns]"
            ]
          },
          "metadata": {
            "tags": []
          },
          "execution_count": 1
        }
      ]
    },
    {
      "cell_type": "code",
      "metadata": {
        "colab": {
          "base_uri": "https://localhost:8080/"
        },
        "id": "omcMfpk4ILZO",
        "outputId": "f28911c8-fcaa-4e96-dace-638e9cf72366"
      },
      "source": [
        "df.isnull().sum()"
      ],
      "execution_count": 2,
      "outputs": [
        {
          "output_type": "execute_result",
          "data": {
            "text/plain": [
              "Source Port             0\n",
              "Destination Port        0\n",
              "NAT Source Port         0\n",
              "NAT Destination Port    0\n",
              "Action                  0\n",
              "Bytes                   0\n",
              "Bytes Sent              0\n",
              "Bytes Received          0\n",
              "Packets                 0\n",
              "Elapsed Time (sec)      0\n",
              "pkts_sent               0\n",
              "pkts_received           0\n",
              "dtype: int64"
            ]
          },
          "metadata": {
            "tags": []
          },
          "execution_count": 2
        }
      ]
    },
    {
      "cell_type": "code",
      "metadata": {
        "colab": {
          "base_uri": "https://localhost:8080/"
        },
        "id": "rZgewVhrIiZc",
        "outputId": "fbcca7bd-57f9-44bb-abeb-d47c067103c1"
      },
      "source": [
        "print(df.value_counts(df['Action'], sort = True))"
      ],
      "execution_count": 3,
      "outputs": [
        {
          "output_type": "stream",
          "text": [
            "Action\n",
            "allow         37640\n",
            "deny          14987\n",
            "drop          12851\n",
            "reset-both       54\n",
            "dtype: int64\n"
          ],
          "name": "stdout"
        }
      ]
    },
    {
      "cell_type": "code",
      "metadata": {
        "colab": {
          "base_uri": "https://localhost:8080/",
          "height": 295
        },
        "id": "jnbIgKiSgctl",
        "outputId": "e61157d1-c480-4fab-8d61-1d73eff5006f"
      },
      "source": [
        "import matplotlib.pyplot as plt\r\n",
        "count_classes = pd.value_counts(df['Action'], sort = True)\r\n",
        "count_classes.plot(kind = 'bar', rot=0)\r\n",
        "##plt.xticks(range(2), LABELS)\r\n",
        "plt.title(\"Frecuencia por numero de muestras\")\r\n",
        "plt.xlabel(\"Clase\")\r\n",
        "plt.ylabel(\"Numbero de muestras\");"
      ],
      "execution_count": 4,
      "outputs": [
        {
          "output_type": "display_data",
          "data": {
            "image/png": "[encoded data removed]",
            "text/plain": [
              "<Figure size 432x288 with 1 Axes>"
            ]
          },
          "metadata": {
            "tags": [],
            "needs_background": "light"
          }
        }
      ]
    },
    {
      "cell_type": "code",
      "metadata": {
        "colab": {
          "base_uri": "https://localhost:8080/"
        },
        "id": "ztxQpAxSnCFe",
        "outputId": "5e328179-5aba-45f8-bc47-b755a9a3ee43"
      },
      "source": [
        "x=df.loc[:, ~df.columns.isin(['Action'])]\r\n",
        "y= df['Action']\r\n",
        "print(y)\r\n",
        "\r\n",
        "#from sklearn.preprocessing import LabelEncoder\r\n",
        "#le = LabelEncoder()\r\n",
        "#yy = le.fit_transform(y)\r\n",
        "#print(yy)\r\n",
        "\r\n"
      ],
      "execution_count": 5,
      "outputs": [
        {
          "output_type": "stream",
          "text": [
            "0        allow\n",
            "1        allow\n",
            "2        allow\n",
            "3        allow\n",
            "4        allow\n",
            "         ...  \n",
            "65527    allow\n",
            "65528    allow\n",
            "65529     drop\n",
            "65530     drop\n",
            "65531     drop\n",
            "Name: Action, Length: 65532, dtype: object\n"
          ],
          "name": "stdout"
        }
      ]
    },
    {
      "cell_type": "code",
      "metadata": {
        "id": "bse8pb3MudNf"
      },
      "source": [
        "from sklearn.model_selection import StratifiedKFold\r\n",
        "from sklearn.metrics import accuracy_score\r\n",
        "from sklearn.preprocessing import StandardScaler\r\n",
        "from sklearn import svm\r\n",
        "\r\n"
      ],
      "execution_count": 6,
      "outputs": []
    },
    {
      "cell_type": "code",
      "metadata": {
        "id": "jHpENPahhTp7"
      },
      "source": [
        "#ejercicio de código\n",
        "from sklearn.model_selection import StratifiedKFold\n",
        "from sklearn.metrics import accuracy_score\n",
        "from sklearn.preprocessing import StandardScaler\n",
        "from sklearn import svm\n",
        "import numpy as np\n",
        "\n",
        "\n",
        "import itertools \n",
        "def experiementarSVC(x, y, kernels, gammas,params_reg):\n",
        "    \"\"\"función que realizar experimentos sobre un SVM para clasificación\n",
        "    \n",
        "    x: numpy.Array, con las caracteristicas del problema\n",
        "    y: numpy.Array, con la variable objetivo\n",
        "    kernels: List[str], lista con valores a pasar \n",
        "        a sklearn correspondiente al kernel de la SVM\n",
        "    gammas: List[float], lista con los valores a pasar a\n",
        "        sklean correspondiente el valor de los coeficientes para usar en el\n",
        "        kernel\n",
        "    params_reg: List[float], lista con los valores a a pasar a \n",
        "        sklearn para ser usados como parametro de regularización\n",
        "    \n",
        "    retorna: pd.Dataframe con las siguientes columnas:\n",
        "        - 3 columnas con los tres parametros: kernel, gamma, param de regularizacion\n",
        "        - error cuadratico medio en el cojunto entrenamiento (promedio de los 4 folds)\n",
        "        - error cuadratico medio en el cojunto test (promedio de los 4 folds)\n",
        "        - % de Vectores de Soporte promedio para los 4 folds (0 a 100)\n",
        "    \"\"\"\n",
        "    idx = 0\n",
        "    kf = StratifiedKFold(n_splits=4)\n",
        "    # crear una lista con la combinaciones de los elementos de cada list\n",
        "    kernels_gammas_regs = list(itertools.product(kernels, gammas, params_reg))\n",
        "    resultados = pd.DataFrame()\n",
        "    \n",
        "    for params in kernels_gammas_regs:\n",
        "        kernel, gamma, param_reg = params\n",
        "        print(\"parametros usados\", params) # puede usar para ver los params\n",
        "        errores_train = []\n",
        "        errores_test = []\n",
        "        pct_support_vectors = []\n",
        "        for train_index, test_index in kf.split(x, y):\n",
        "            X_train, X_test = x.iloc[list(train_index)], x.iloc[list(test_index)]\n",
        "            y_train, y_test = y.iloc[list(train_index)], y.iloc[list(test_index)]\n",
        "            # normalizar los datos\n",
        "            scaler = StandardScaler().fit(X_train)\n",
        "            X_train = scaler.fit_transform(X_train)\n",
        "            X_test = scaler.transform(X_test)\n",
        "            svmm = svm.SVC(kernel=kernel, gamma=gamma, C=param_reg)\n",
        "            # Entrenar el modelo\n",
        "            svmm.fit(X=X_train, y=y_train)    \n",
        "            # calculo de errores\n",
        "            y_train_pred = svmm.predict(X=X_train)\n",
        "            y_test_pred = svmm.predict(X=X_test)\n",
        "            # error y pct de vectores de soporte\n",
        "            errores_train.append(accuracy_score(y_true=y_train, y_pred = y_train_pred))\n",
        "            errores_test.append(accuracy_score(y_true = y_test, y_pred = y_test_pred))\n",
        "            # contar muestras de entrenamiento\n",
        "            n_train = X_train.shape[0]\n",
        "            pct_vs = (len(svmm.support_vectors_)/n_train)*100\n",
        "            pct_support_vectors.append(pct_vs)\n",
        "        \n",
        "        resultados.loc[idx,'kernel'] = kernel\n",
        "        resultados.loc[idx,'gamma'] = gamma\n",
        "        resultados.loc[idx,'param_reg'] = param_reg\n",
        "        resultados.loc[idx,'error de entrenamiento'] = np.mean(errores_train)\n",
        "        resultados.loc[idx,'error de prueba'] = np.mean(errores_test)\n",
        "        resultados.loc[idx,'% de vectores de soporte'] = np.mean(pct_support_vectors)\n",
        "        idx+=1\n",
        "    return (resultados)"
      ],
      "execution_count": 7,
      "outputs": []
    },
    {
      "cell_type": "code",
      "metadata": {
        "colab": {
          "base_uri": "https://localhost:8080/",
          "height": 614
        },
        "id": "Qkgf1gvPxRkK",
        "outputId": "5fcbd1f6-df20-40d0-a85d-1f0a3d1c375c"
      },
      "source": [
        "resultadosSVC = experiementarSVC(x = x,y=y,\r\n",
        "                                 kernels=['linear', 'rbf'],\r\n",
        "                                 gammas = [0.01,0.1],\r\n",
        "                                 params_reg = [0.01,0.1, 1.0]\r\n",
        "                                )\r\n",
        "\r\n",
        "resultadosSVC"
      ],
      "execution_count": 8,
      "outputs": [
        {
          "output_type": "stream",
          "text": [
            "parametros usados ('linear', 0.01, 0.01)\n",
            "parametros usados ('linear', 0.01, 0.1)\n",
            "parametros usados ('linear', 0.01, 1.0)\n",
            "parametros usados ('linear', 0.1, 0.01)\n",
            "parametros usados ('linear', 0.1, 0.1)\n",
            "parametros usados ('linear', 0.1, 1.0)\n",
            "parametros usados ('rbf', 0.01, 0.01)\n",
            "parametros usados ('rbf', 0.01, 0.1)\n",
            "parametros usados ('rbf', 0.01, 1.0)\n",
            "parametros usados ('rbf', 0.1, 0.01)\n",
            "parametros usados ('rbf', 0.1, 0.1)\n",
            "parametros usados ('rbf', 0.1, 1.0)\n"
          ],
          "name": "stdout"
        },
        {
          "output_type": "execute_result",
          "data": {
            "text/html": [
              "<div>\n",
              "<style scoped>\n",
              "    .dataframe tbody tr th:only-of-type {\n",
              "        vertical-align: middle;\n",
              "    }\n",
              "\n",
              "    .dataframe tbody tr th {\n",
              "        vertical-align: top;\n",
              "    }\n",
              "\n",
              "    .dataframe thead th {\n",
              "        text-align: right;\n",
              "    }\n",
              "</style>\n",
              "<table border=\"1\" class=\"dataframe\">\n",
              "  <thead>\n",
              "    <tr style=\"text-align: right;\">\n",
              "      <th></th>\n",
              "      <th>kernel</th>\n",
              "      <th>gamma</th>\n",
              "      <th>param_reg</th>\n",
              "      <th>error de entrenamiento</th>\n",
              "      <th>error de prueba</th>\n",
              "      <th>% de vectores de soporte</th>\n",
              "    </tr>\n",
              "  </thead>\n",
              "  <tbody>\n",
              "    <tr>\n",
              "      <th>0</th>\n",
              "      <td>linear</td>\n",
              "      <td>0.01</td>\n",
              "      <td>0.01</td>\n",
              "      <td>0.952603</td>\n",
              "      <td>0.953076</td>\n",
              "      <td>14.799894</td>\n",
              "    </tr>\n",
              "    <tr>\n",
              "      <th>1</th>\n",
              "      <td>linear</td>\n",
              "      <td>0.01</td>\n",
              "      <td>0.10</td>\n",
              "      <td>0.983062</td>\n",
              "      <td>0.982894</td>\n",
              "      <td>6.634418</td>\n",
              "    </tr>\n",
              "    <tr>\n",
              "      <th>2</th>\n",
              "      <td>linear</td>\n",
              "      <td>0.01</td>\n",
              "      <td>1.00</td>\n",
              "      <td>0.989756</td>\n",
              "      <td>0.989684</td>\n",
              "      <td>3.473621</td>\n",
              "    </tr>\n",
              "    <tr>\n",
              "      <th>3</th>\n",
              "      <td>linear</td>\n",
              "      <td>0.10</td>\n",
              "      <td>0.01</td>\n",
              "      <td>0.952603</td>\n",
              "      <td>0.953076</td>\n",
              "      <td>14.799894</td>\n",
              "    </tr>\n",
              "    <tr>\n",
              "      <th>4</th>\n",
              "      <td>linear</td>\n",
              "      <td>0.10</td>\n",
              "      <td>0.10</td>\n",
              "      <td>0.983062</td>\n",
              "      <td>0.982894</td>\n",
              "      <td>6.634418</td>\n",
              "    </tr>\n",
              "    <tr>\n",
              "      <th>5</th>\n",
              "      <td>linear</td>\n",
              "      <td>0.10</td>\n",
              "      <td>1.00</td>\n",
              "      <td>0.989756</td>\n",
              "      <td>0.989684</td>\n",
              "      <td>3.473621</td>\n",
              "    </tr>\n",
              "    <tr>\n",
              "      <th>6</th>\n",
              "      <td>rbf</td>\n",
              "      <td>0.01</td>\n",
              "      <td>0.01</td>\n",
              "      <td>0.891798</td>\n",
              "      <td>0.891656</td>\n",
              "      <td>53.584000</td>\n",
              "    </tr>\n",
              "    <tr>\n",
              "      <th>7</th>\n",
              "      <td>rbf</td>\n",
              "      <td>0.01</td>\n",
              "      <td>0.10</td>\n",
              "      <td>0.926784</td>\n",
              "      <td>0.926997</td>\n",
              "      <td>25.259924</td>\n",
              "    </tr>\n",
              "    <tr>\n",
              "      <th>8</th>\n",
              "      <td>rbf</td>\n",
              "      <td>0.01</td>\n",
              "      <td>1.00</td>\n",
              "      <td>0.971912</td>\n",
              "      <td>0.959791</td>\n",
              "      <td>11.748459</td>\n",
              "    </tr>\n",
              "    <tr>\n",
              "      <th>9</th>\n",
              "      <td>rbf</td>\n",
              "      <td>0.10</td>\n",
              "      <td>0.01</td>\n",
              "      <td>0.927287</td>\n",
              "      <td>0.927303</td>\n",
              "      <td>26.049869</td>\n",
              "    </tr>\n",
              "    <tr>\n",
              "      <th>10</th>\n",
              "      <td>rbf</td>\n",
              "      <td>0.10</td>\n",
              "      <td>0.10</td>\n",
              "      <td>0.972360</td>\n",
              "      <td>0.960203</td>\n",
              "      <td>12.328837</td>\n",
              "    </tr>\n",
              "    <tr>\n",
              "      <th>11</th>\n",
              "      <td>rbf</td>\n",
              "      <td>0.10</td>\n",
              "      <td>1.00</td>\n",
              "      <td>0.988982</td>\n",
              "      <td>0.988723</td>\n",
              "      <td>5.694419</td>\n",
              "    </tr>\n",
              "  </tbody>\n",
              "</table>\n",
              "</div>"
            ],
            "text/plain": [
              "    kernel  gamma  ...  error de prueba  % de vectores de soporte\n",
              "0   linear   0.01  ...         0.953076                 14.799894\n",
              "1   linear   0.01  ...         0.982894                  6.634418\n",
              "2   linear   0.01  ...         0.989684                  3.473621\n",
              "3   linear   0.10  ...         0.953076                 14.799894\n",
              "4   linear   0.10  ...         0.982894                  6.634418\n",
              "5   linear   0.10  ...         0.989684                  3.473621\n",
              "6      rbf   0.01  ...         0.891656                 53.584000\n",
              "7      rbf   0.01  ...         0.926997                 25.259924\n",
              "8      rbf   0.01  ...         0.959791                 11.748459\n",
              "9      rbf   0.10  ...         0.927303                 26.049869\n",
              "10     rbf   0.10  ...         0.960203                 12.328837\n",
              "11     rbf   0.10  ...         0.988723                  5.694419\n",
              "\n",
              "[12 rows x 6 columns]"
            ]
          },
          "metadata": {
            "tags": []
          },
          "execution_count": 8
        }
      ]
    },
    {
      "cell_type": "code",
      "metadata": {
        "id": "m-3Hu5y-braD"
      },
      "source": [
        "from sklearn.discriminant_analysis import QuadraticDiscriminantAnalysis\r\n",
        "\r\n",
        "def experiementarDiscriminanteCuadratico(x, y):\r\n",
        "    idx = 0\r\n",
        "    kf = StratifiedKFold(n_splits=4)   \r\n",
        "    resultados = pd.DataFrame()\r\n",
        "    \r\n",
        "    errores_train = []\r\n",
        "    errores_test = []\r\n",
        "    for train_index, test_index in kf.split(x, y):\r\n",
        "        X_train, X_test = x.iloc[list(train_index)], x.iloc[list(test_index)]\r\n",
        "        y_train, y_test = y.iloc[list(train_index)], y.iloc[list(test_index)]\r\n",
        "        # normalizar los datos\r\n",
        "        scaler = StandardScaler().fit(X_train)\r\n",
        "        X_train = scaler.fit_transform(X_train)\r\n",
        "        X_test = scaler.transform(X_test)\r\n",
        "        qda = QuadraticDiscriminantAnalysis()\r\n",
        "        model2 = qda.fit(X_train, y_train)\r\n",
        "        # calculo de errores\r\n",
        "        y_train_pred = model2.predict(X=X_train)\r\n",
        "        y_test_pred = model2.predict(X=X_test)\r\n",
        "        # error y pct de vectores de soporte\r\n",
        "        errores_train.append(accuracy_score(y_true=y_train, y_pred = y_train_pred))\r\n",
        "        errores_test.append(accuracy_score(y_true = y_test, y_pred = y_test_pred))\r\n",
        "        # contar muestras de entrenamiento\r\n",
        "        n_train = X_train.shape[0]\r\n",
        "        \r\n",
        "        resultados.loc[idx,'error de entrenamiento'] = np.mean(errores_train)\r\n",
        "        resultados.loc[idx,'error de prueba'] = np.mean(errores_test)\r\n",
        "        idx+=1\r\n",
        "    return (resultados)"
      ],
      "execution_count": 12,
      "outputs": []
    },
    {
      "cell_type": "code",
      "metadata": {
        "colab": {
          "base_uri": "https://localhost:8080/",
          "height": 306
        },
        "id": "ek8DpQOUgRZE",
        "outputId": "e75866b9-5083-4f78-8dfb-9403d38bf4b2"
      },
      "source": [
        "resultadosDiscriminanteCuadratico= experiementarDiscriminanteCuadratico(x = x,y=y)\r\n",
        "\r\n",
        "resultadosDiscriminanteCuadratico"
      ],
      "execution_count": 13,
      "outputs": [
        {
          "output_type": "stream",
          "text": [
            "/usr/local/lib/python3.6/dist-packages/sklearn/discriminant_analysis.py:691: UserWarning: Variables are collinear\n",
            "  warnings.warn(\"Variables are collinear\")\n",
            "/usr/local/lib/python3.6/dist-packages/sklearn/discriminant_analysis.py:691: UserWarning: Variables are collinear\n",
            "  warnings.warn(\"Variables are collinear\")\n",
            "/usr/local/lib/python3.6/dist-packages/sklearn/discriminant_analysis.py:691: UserWarning: Variables are collinear\n",
            "  warnings.warn(\"Variables are collinear\")\n",
            "/usr/local/lib/python3.6/dist-packages/sklearn/discriminant_analysis.py:691: UserWarning: Variables are collinear\n",
            "  warnings.warn(\"Variables are collinear\")\n"
          ],
          "name": "stderr"
        },
        {
          "output_type": "execute_result",
          "data": {
            "text/html": [
              "<div>\n",
              "<style scoped>\n",
              "    .dataframe tbody tr th:only-of-type {\n",
              "        vertical-align: middle;\n",
              "    }\n",
              "\n",
              "    .dataframe tbody tr th {\n",
              "        vertical-align: top;\n",
              "    }\n",
              "\n",
              "    .dataframe thead th {\n",
              "        text-align: right;\n",
              "    }\n",
              "</style>\n",
              "<table border=\"1\" class=\"dataframe\">\n",
              "  <thead>\n",
              "    <tr style=\"text-align: right;\">\n",
              "      <th></th>\n",
              "      <th>error de entrenamiento</th>\n",
              "      <th>error de prueba</th>\n",
              "    </tr>\n",
              "  </thead>\n",
              "  <tbody>\n",
              "    <tr>\n",
              "      <th>0</th>\n",
              "      <td>0.687379</td>\n",
              "      <td>0.649149</td>\n",
              "    </tr>\n",
              "    <tr>\n",
              "      <th>1</th>\n",
              "      <td>0.631447</td>\n",
              "      <td>0.614265</td>\n",
              "    </tr>\n",
              "    <tr>\n",
              "      <th>2</th>\n",
              "      <td>0.637429</td>\n",
              "      <td>0.631793</td>\n",
              "    </tr>\n",
              "    <tr>\n",
              "      <th>3</th>\n",
              "      <td>0.622378</td>\n",
              "      <td>0.617759</td>\n",
              "    </tr>\n",
              "  </tbody>\n",
              "</table>\n",
              "</div>"
            ],
            "text/plain": [
              "   error de entrenamiento  error de prueba\n",
              "0                0.687379         0.649149\n",
              "1                0.631447         0.614265\n",
              "2                0.637429         0.631793\n",
              "3                0.622378         0.617759"
            ]
          },
          "metadata": {
            "tags": []
          },
          "execution_count": 13
        }
      ]
    },
    {
      "cell_type": "code",
      "metadata": {
        "id": "ykZo7-oK1_wc"
      },
      "source": [
        "## Gradient Boosting tree\r\n",
        "from sklearn.ensemble import GradientBoostingClassifier\r\n",
        "def experimentar_gbt(num_trees, X, Y):\r\n",
        "    \"\"\"funcion que realiza experimentos de arboles de decision\r\n",
        "    num_trees: list[int] lista con el número de arboles usado para el RF\r\n",
        "    X: matriz con las caractersiticas\r\n",
        "    Y: matriz de numpy con etiquetas\r\n",
        "    retorna: dataframe con:\r\n",
        "        - numero de arboles usados\r\n",
        "        - eficiencia de entrenamiento\r\n",
        "        - desviacion de estandar eficiencia de entrenamiento\r\n",
        "        - eficiencia de prueba\r\n",
        "        - desviacion estandar eficiencia de prueba\r\n",
        "    \"\"\"\r\n",
        "    folds = 4\r\n",
        "    skf = StratifiedKFold(n_splits=folds)\r\n",
        "    resultados = pd.DataFrame()\r\n",
        "    idx = 0\r\n",
        "    for trees in num_trees:\r\n",
        "        ## para almacenar los errores intermedios\r\n",
        "        EficienciaTrain = []\r\n",
        "        EficienciaVal = []\r\n",
        "        for train, test in skf.split(X, Y):\r\n",
        "            Xtrain = X.iloc[train,:]\r\n",
        "            Ytrain = Y.iloc[train]\r\n",
        "            Xtest = X.iloc[test,:]\r\n",
        "            Ytest = Y.iloc[test]\r\n",
        "            #Haga el llamado a la función para crear y entrenar el modelo usando los datos de entrenamiento\r\n",
        "            modelo=GradientBoostingClassifier(n_estimators=trees)\r\n",
        "            modelo.fit(Xtrain, Ytrain)\r\n",
        "            #predecir muestras de entrenamiento\r\n",
        "            Ytrain_pred = modelo.predict(Xtrain)\r\n",
        "            #predecir muestras de pruebas\r\n",
        "            Yest = modelo.predict(Xtest)\r\n",
        "            #Evaluamos las predicciones del modelo con los datos de test\r\n",
        "            EficienciaTrain.append(np.mean(Ytrain_pred.ravel() == Ytrain.ravel()))\r\n",
        "            EficienciaVal.append(np.mean(Yest.ravel() == Ytest.ravel()))\r\n",
        "\r\n",
        "        resultados.loc[idx,'número de arboles'] = trees\r\n",
        "        resultados.loc[idx,'eficiencia de entrenamiento'] = np.mean(EficienciaTrain)\r\n",
        "        resultados.loc[idx,'desviacion estandar entrenamiento'] = np.std(EficienciaTrain)\r\n",
        "        resultados.loc[idx,'eficiencia de prueba'] =np.mean(EficienciaVal)\r\n",
        "        resultados.loc[idx,'desviacion estandar prueba'] = np.std(EficienciaVal)\r\n",
        "        idx= idx +1\r\n",
        "        \r\n",
        "    return (resultados)"
      ],
      "execution_count": 23,
      "outputs": []
    },
    {
      "cell_type": "code",
      "metadata": {
        "colab": {
          "base_uri": "https://localhost:8080/",
          "height": 212
        },
        "id": "XOPqBClK_vuU",
        "outputId": "dbc7d424-b1c2-4001-a1ab-9fa439ecfb9e"
      },
      "source": [
        "arboles = [5,10,20,50,100]\r\n",
        "resultados_gbt = experimentar_gbt(arboles, x, y)\r\n",
        "resultados_gbt"
      ],
      "execution_count": 25,
      "outputs": [
        {
          "output_type": "execute_result",
          "data": {
            "text/html": [
              "<div>\n",
              "<style scoped>\n",
              "    .dataframe tbody tr th:only-of-type {\n",
              "        vertical-align: middle;\n",
              "    }\n",
              "\n",
              "    .dataframe tbody tr th {\n",
              "        vertical-align: top;\n",
              "    }\n",
              "\n",
              "    .dataframe thead th {\n",
              "        text-align: right;\n",
              "    }\n",
              "</style>\n",
              "<table border=\"1\" class=\"dataframe\">\n",
              "  <thead>\n",
              "    <tr style=\"text-align: right;\">\n",
              "      <th></th>\n",
              "      <th>número de arboles</th>\n",
              "      <th>eficiencia de entrenamiento</th>\n",
              "      <th>desviacion estandar entrenamiento</th>\n",
              "      <th>eficiencia de prueba</th>\n",
              "      <th>desviacion estandar prueba</th>\n",
              "    </tr>\n",
              "  </thead>\n",
              "  <tbody>\n",
              "    <tr>\n",
              "      <th>0</th>\n",
              "      <td>5.0</td>\n",
              "      <td>0.997029</td>\n",
              "      <td>0.000273</td>\n",
              "      <td>0.996643</td>\n",
              "      <td>0.000544</td>\n",
              "    </tr>\n",
              "    <tr>\n",
              "      <th>1</th>\n",
              "      <td>10.0</td>\n",
              "      <td>0.997401</td>\n",
              "      <td>0.000192</td>\n",
              "      <td>0.996750</td>\n",
              "      <td>0.000458</td>\n",
              "    </tr>\n",
              "    <tr>\n",
              "      <th>2</th>\n",
              "      <td>20.0</td>\n",
              "      <td>0.997859</td>\n",
              "      <td>0.000296</td>\n",
              "      <td>0.997101</td>\n",
              "      <td>0.000370</td>\n",
              "    </tr>\n",
              "    <tr>\n",
              "      <th>3</th>\n",
              "      <td>50.0</td>\n",
              "      <td>0.999140</td>\n",
              "      <td>0.000094</td>\n",
              "      <td>0.998230</td>\n",
              "      <td>0.000459</td>\n",
              "    </tr>\n",
              "    <tr>\n",
              "      <th>4</th>\n",
              "      <td>100.0</td>\n",
              "      <td>0.999619</td>\n",
              "      <td>0.000067</td>\n",
              "      <td>0.997375</td>\n",
              "      <td>0.000407</td>\n",
              "    </tr>\n",
              "  </tbody>\n",
              "</table>\n",
              "</div>"
            ],
            "text/plain": [
              "   número de arboles  ...  desviacion estandar prueba\n",
              "0                5.0  ...                    0.000544\n",
              "1               10.0  ...                    0.000458\n",
              "2               20.0  ...                    0.000370\n",
              "3               50.0  ...                    0.000459\n",
              "4              100.0  ...                    0.000407\n",
              "\n",
              "[5 rows x 5 columns]"
            ]
          },
          "metadata": {
            "tags": []
          },
          "execution_count": 25
        }
      ]
    },
    {
      "cell_type": "code",
      "metadata": {
        "id": "WrOrTyN12x8F"
      },
      "source": [
        "## redes neuronales artificiales\r\n",
        "from sklearn.neural_network import MLPClassifier\r\n",
        "\r\n",
        "def output_activation_MPC():\r\n",
        "    \"\"\"funcion que entrena un modelo\r\n",
        "    con data aleatoria para confirmar la funcion\r\n",
        "    de activacion de la ultima capa\r\n",
        "    \"\"\"\r\n",
        "    mlp = MLPClassifier()\r\n",
        "    # fit with some random data\r\n",
        "    xrandom = np.random.rand(10,2)\r\n",
        "    yrandom = np.zeros(10)\r\n",
        "    # llamar el metodo adecuado para entrenar\r\n",
        "    # el mlp con los x y 'y' random\r\n",
        "    mlp.fit(xrandom,yrandom )\r\n",
        "    # retornar el atributo de mlp adecuado\r\n",
        "    return (mlp.out_activation_)\r\n",
        "\r\n",
        "def experimetar_mlpc(X,Y, num_hidden_layers, num_neurons):\r\n",
        "    \"\"\" función para realizar experimentos con el MLP\r\n",
        "    x: matriz de numpy con caracteristicas\r\n",
        "    y: vector numpy con las variables a predecir\r\n",
        "    num_hidden_layers: list de enteros con el numero de capdas\r\n",
        "        ocultas a usar\r\n",
        "    num_neurons: list de enteros con el numero de neuronas a usar\r\n",
        "    \r\n",
        "    Retorna: dataframe con 4 columnas:\r\n",
        "        - numero de capas, numero de neuronas\r\n",
        "        - promedio de error prueba (exactitud/eficiencia) de claisficacion y desviación estandar        \r\n",
        "    \"\"\"\r\n",
        "    from sklearn.metrics import accuracy_score\r\n",
        "    #Validamos el modelo\r\n",
        "    Folds = 4\r\n",
        "    skf = StratifiedKFold(n_splits=Folds)\r\n",
        "    resultados = pd.DataFrame()\r\n",
        "    idx = 0\r\n",
        "    for hidden_layers in num_hidden_layers:\r\n",
        "        for neurons in num_neurons:\r\n",
        "            for j, (train, test) in enumerate(skf.split(X, Y)):\r\n",
        "                # para almacenar errores intermedios\r\n",
        "                Error = np.zeros(Folds)\r\n",
        "                Xtrain = X.iloc[train,:]\r\n",
        "                Ytrain = Y.iloc[train]\r\n",
        "                Xtest = X.iloc[test,:]\r\n",
        "                Ytest = Y.iloc[test]\r\n",
        "                #Normalizamos los datos\r\n",
        "                scaler = StandardScaler().fit(X= Xtrain)       \r\n",
        "                Xtrain = scaler.transform(Xtrain)\r\n",
        "                Xtest = scaler.transform(Xtest)\r\n",
        "                #Haga el llamado a la función para crear y entrenar el modelo usando los datos de entrenamiento\r\n",
        "                # prestar atención a los parametros, correctos.\r\n",
        "                hidden_layer_sizes = tuple(hidden_layers*[neurons])\r\n",
        "                #print(hidden_layers*[neurons])\r\n",
        "                #print(hidden_layer_sizes)\r\n",
        "                mlp = MLPClassifier(hidden_layer_sizes = hidden_layer_sizes, activation='tanh', max_iter=400)\r\n",
        "                # entrenar el MLP\r\n",
        "                mlp.fit(X=Xtrain,y=Ytrain)\r\n",
        "                #Use para el modelo para hacer predicciones sobre el conjunto Xtest\r\n",
        "                Yest = mlp.predict(X=Xtest)\r\n",
        "                Error[j] = accuracy_score(y_true=Ytest, y_pred=Yest)\r\n",
        "                #print(accuracy_score(Ytest, Yest))\r\n",
        "        \r\n",
        "            print('error para configuracion de params = ' + str(np.mean(Error)) + '+-' + str(np.std(Error)))\r\n",
        "        \r\n",
        "            resultados.loc[idx,'capas ocultas'] = hidden_layers\r\n",
        "            resultados.loc[idx,'neuronas en capas ocultas'] = neurons \r\n",
        "            resultados.loc[idx,'error de prueba(media)'] = np.mean(Error)\r\n",
        "            resultados.loc[idx,'intervalo de confianza'] = np.std(Error)\r\n",
        "            idx+=1\r\n",
        "    return (resultados)"
      ],
      "execution_count": 14,
      "outputs": []
    },
    {
      "cell_type": "code",
      "metadata": {
        "colab": {
          "base_uri": "https://localhost:8080/"
        },
        "id": "ZnTA2mMB3GN8",
        "outputId": "795dccb0-1831-41b3-b19a-586826f43354"
      },
      "source": [
        "resultados_mlpc = experimetar_mlpc(x,y, [1,2], [12,16,20,24])"
      ],
      "execution_count": 15,
      "outputs": [
        {
          "output_type": "stream",
          "text": [
            "error para configuracion de params = 0.24772630165415369+-0.42907454083612817\n",
            "error para configuracion de params = 0.24752792528840872+-0.42873094289163705\n",
            "error para configuracion de params = 0.24763474333150218+-0.42891595716944\n",
            "error para configuracion de params = 0.24763474333150218+-0.42891595716944\n",
            "error para configuracion de params = 0.24891655984862357+-0.4311361285030752\n",
            "error para configuracion de params = 0.2489470792895074+-0.4311889897253046\n",
            "error para configuracion de params = 0.24897759873039127+-0.4312418509475341\n",
            "error para configuracion de params = 0.24897759873039127+-0.4312418509475341\n"
          ],
          "name": "stdout"
        }
      ]
    },
    {
      "cell_type": "code",
      "metadata": {
        "colab": {
          "base_uri": "https://localhost:8080/",
          "height": 401
        },
        "id": "jrz2MVrV3sXW",
        "outputId": "b7054f6d-9172-4375-c75a-140027508c1b"
      },
      "source": [
        "import seaborn as sns\r\n",
        "sns.relplot(data = resultados_mlpc,  x='neuronas en capas ocultas', y = 'error de prueba(media)', style= 'capas ocultas', kind = 'line')"
      ],
      "execution_count": 16,
      "outputs": [
        {
          "output_type": "execute_result",
          "data": {
            "text/plain": [
              "<seaborn.axisgrid.FacetGrid at 0x7fe2e9f43f98>"
            ]
          },
          "metadata": {
            "tags": []
          },
          "execution_count": 16
        },
        {
          "output_type": "display_data",
          "data": {
            "image/png": "[encoded data removed]",
            "text/plain": [
              "<Figure size 436.375x360 with 1 Axes>"
            ]
          },
          "metadata": {
            "tags": [],
            "needs_background": "light"
          }
        }
      ]
    },
    {
      "cell_type": "code",
      "metadata": {
        "colab": {
          "base_uri": "https://localhost:8080/",
          "height": 284
        },
        "id": "erslDWNFYwBo",
        "outputId": "1148df4d-8c02-416e-92f3-0fd355bcc02f"
      },
      "source": [
        "resultados_mlpc"
      ],
      "execution_count": 17,
      "outputs": [
        {
          "output_type": "execute_result",
          "data": {
            "text/html": [
              "<div>\n",
              "<style scoped>\n",
              "    .dataframe tbody tr th:only-of-type {\n",
              "        vertical-align: middle;\n",
              "    }\n",
              "\n",
              "    .dataframe tbody tr th {\n",
              "        vertical-align: top;\n",
              "    }\n",
              "\n",
              "    .dataframe thead th {\n",
              "        text-align: right;\n",
              "    }\n",
              "</style>\n",
              "<table border=\"1\" class=\"dataframe\">\n",
              "  <thead>\n",
              "    <tr style=\"text-align: right;\">\n",
              "      <th></th>\n",
              "      <th>capas ocultas</th>\n",
              "      <th>neuronas en capas ocultas</th>\n",
              "      <th>error de prueba(media)</th>\n",
              "      <th>intervalo de confianza</th>\n",
              "    </tr>\n",
              "  </thead>\n",
              "  <tbody>\n",
              "    <tr>\n",
              "      <th>0</th>\n",
              "      <td>1.0</td>\n",
              "      <td>12.0</td>\n",
              "      <td>0.247726</td>\n",
              "      <td>0.429075</td>\n",
              "    </tr>\n",
              "    <tr>\n",
              "      <th>1</th>\n",
              "      <td>1.0</td>\n",
              "      <td>16.0</td>\n",
              "      <td>0.247528</td>\n",
              "      <td>0.428731</td>\n",
              "    </tr>\n",
              "    <tr>\n",
              "      <th>2</th>\n",
              "      <td>1.0</td>\n",
              "      <td>20.0</td>\n",
              "      <td>0.247635</td>\n",
              "      <td>0.428916</td>\n",
              "    </tr>\n",
              "    <tr>\n",
              "      <th>3</th>\n",
              "      <td>1.0</td>\n",
              "      <td>24.0</td>\n",
              "      <td>0.247635</td>\n",
              "      <td>0.428916</td>\n",
              "    </tr>\n",
              "    <tr>\n",
              "      <th>4</th>\n",
              "      <td>2.0</td>\n",
              "      <td>12.0</td>\n",
              "      <td>0.248917</td>\n",
              "      <td>0.431136</td>\n",
              "    </tr>\n",
              "    <tr>\n",
              "      <th>5</th>\n",
              "      <td>2.0</td>\n",
              "      <td>16.0</td>\n",
              "      <td>0.248947</td>\n",
              "      <td>0.431189</td>\n",
              "    </tr>\n",
              "    <tr>\n",
              "      <th>6</th>\n",
              "      <td>2.0</td>\n",
              "      <td>20.0</td>\n",
              "      <td>0.248978</td>\n",
              "      <td>0.431242</td>\n",
              "    </tr>\n",
              "    <tr>\n",
              "      <th>7</th>\n",
              "      <td>2.0</td>\n",
              "      <td>24.0</td>\n",
              "      <td>0.248978</td>\n",
              "      <td>0.431242</td>\n",
              "    </tr>\n",
              "  </tbody>\n",
              "</table>\n",
              "</div>"
            ],
            "text/plain": [
              "   capas ocultas  ...  intervalo de confianza\n",
              "0            1.0  ...                0.429075\n",
              "1            1.0  ...                0.428731\n",
              "2            1.0  ...                0.428916\n",
              "3            1.0  ...                0.428916\n",
              "4            2.0  ...                0.431136\n",
              "5            2.0  ...                0.431189\n",
              "6            2.0  ...                0.431242\n",
              "7            2.0  ...                0.431242\n",
              "\n",
              "[8 rows x 4 columns]"
            ]
          },
          "metadata": {
            "tags": []
          },
          "execution_count": 17
        }
      ]
    },
    {
      "cell_type": "code",
      "metadata": {
        "id": "hix-m-yIJf18"
      },
      "source": [
        "## indice de fisher\r\n",
        "#ejercicio de código\r\n",
        "from sklearn.discriminant_analysis import LinearDiscriminantAnalysis\r\n",
        "from sklearn import svm\r\n",
        "def entrenamiento_lda_ext_caracteristicas(n_comp, X, Y):\r\n",
        "    \"\"\"\r\n",
        "    Esta función realiza la reducción de la dimensionalidad sobre el conjunto de\r\n",
        "    datos de entrenamiento, de acuerdo con las particiones especificadas usando PCA\r\n",
        "\r\n",
        "    Parámetros:\r\n",
        "    n_comp, int, Número de componentes para reducción\r\n",
        "    n_sets,int, Número de particiones\r\n",
        "    X: numpy Array de características\r\n",
        "    Y: numpy Array  Vector de etiquetas\r\n",
        "\r\n",
        "    Retorna: \r\n",
        "    ErrorValidacion: El valor medio de errores\r\n",
        "    IC_Validacion: Intervalo de confianza\r\n",
        "    T_ejec:  El  valor medio del tiempo de ejecución\r\n",
        "    \"\"\"\r\n",
        "   \r\n",
        "\r\n",
        "    #Implemetamos la metodología de validación \r\n",
        "    Errores = np.ones(5)\r\n",
        "    times = np.ones(5)\r\n",
        "    j = 0\r\n",
        "    kf = KFold(n_splits=5)\r\n",
        "    for train_index, test_index in kf.split(X):  \r\n",
        "        X_train, X_test = x.iloc[list(train_index)], x.iloc[list(test_index)]\r\n",
        "        y_train, y_test = y.iloc[list(train_index)], y.iloc[list(test_index)]\r\n",
        "        \r\n",
        "        # ¿es necesario estandarizacion de datos?\r\n",
        "        scaler = StandardScaler()\r\n",
        "        X_train = scaler.fit_transform(X_train)\r\n",
        "        X_test = scaler.transform(X_test)\r\n",
        "        # dejar el nombre del objeto igual (lda)\r\n",
        "        lda = LinearDiscriminantAnalysis(n_components=n_comp)\r\n",
        "        # para calcular costo computacional\r\n",
        "        # es recomendable usar el metodo que ajusta y transforma\r\n",
        "        X_train_lda = lda.fit_transform(X=X_train, y=y_train)\r\n",
        "        # aca solo usar el metodo de transformar (ya que en el anterior el pca se ajusto)\r\n",
        "        X_test_lda = lda.transform(X=X_test)\r\n",
        "        # entrenar el modelo usando las caractieristicas transformadas por PCA\r\n",
        "        clf = svm.SVC(kernel=\"linear\", C=1)\r\n",
        "        clf.fit(X=X_train_lda, y=y_train)\r\n",
        "        Errores[j] = accuracy_score(y_true=y_test, y_pred=clf.predict(X=X_test_lda))\r\n",
        "        j+=1\r\n",
        "\r\n",
        "\r\n",
        "    return np.mean(Errores), np.std(Errores)\r\n"
      ],
      "execution_count": 25,
      "outputs": []
    },
    {
      "cell_type": "code",
      "metadata": {
        "id": "pt2CJUCdHiXK"
      },
      "source": [
        "\r\n",
        "#ejercicio de código\r\n",
        "def experimentar_LDA(n_feats, X, Y):\r\n",
        "    \"\"\"\r\n",
        "    Esta función realiza la comparación del desempeño de RFE utilizando diferente \r\n",
        "    número de feats y particionando el conjunto de datos en diferente número de \r\n",
        "    subconjuntos\r\n",
        "\r\n",
        "    Parámetros:\r\n",
        "    X (numpy.array), El arreglo numpy de características\r\n",
        "    Y (numpy.array), El vector de etiquetas\r\n",
        "    n_feats, Vector de números enteros que indica el número de características\r\n",
        "              que debe utilizar el modelo\r\n",
        "    n_sets, Vector de números enteros que indica el número de particiones\r\n",
        "\r\n",
        "    Retorna:  \r\n",
        "    - DataFrame con las columnas: DESCRIPCION, ERROR_VALIDACION, IC_STD_VALIDACION, \r\n",
        "    y T_EJECUCION. \r\n",
        "\r\n",
        "    \"\"\"\r\n",
        "    \"\"\"\r\n",
        "    Esta función realiza la comparación del desempeño de RFE utilizando diferente \r\n",
        "    número de feats y particionando el conjunto de datos en diferente número de \r\n",
        "    subconjuntos\r\n",
        "\r\n",
        "    Parámetros:\r\n",
        "    X (numpy.array), El arreglo numpy de características\r\n",
        "    Y (numpy.array), El vector de etiquetas\r\n",
        "    n_feats, Vector de números enteros que indica el número de características\r\n",
        "              que debe utilizar el modelo\r\n",
        "    n_sets, Vector de números enteros que indica el número de particiones\r\n",
        "\r\n",
        "    Retorna:  \r\n",
        "    - DataFrame con las columnas: DESCRIPCION, ERROR_VALIDACION, IC_STD_VALIDACION, \r\n",
        "    y T_EJECUCION. \r\n",
        "\r\n",
        "    \"\"\"\r\n",
        "    df = pd.DataFrame()\r\n",
        "    idx = 0\r\n",
        "    split_number = 5\r\n",
        "    #Con selección de características\r\n",
        "    \r\n",
        "    for f in n_feats:\r\n",
        "        #Implemetamos la metodología de validación \r\n",
        "        error, ic_error = entrenamiento_lda_ext_caracteristicas(n_comp=f, X=x,Y=y)\r\n",
        "        df.loc[idx,'CON_SEL'] = 'SI'\r\n",
        "        df.loc[idx,'NUM_VAR'] = f\r\n",
        "        df.loc[idx,'ERROR_VALIDACION'] = error\r\n",
        "        df.loc[idx, 'IC_STD_VALIDACION'] = ic_error\r\n",
        "        \r\n",
        "        idx+=1\r\n",
        "    return df"
      ],
      "execution_count": 23,
      "outputs": []
    },
    {
      "cell_type": "code",
      "metadata": {
        "colab": {
          "base_uri": "https://localhost:8080/",
          "height": 106
        },
        "id": "f8ZBFiJoJAzs",
        "outputId": "e37bf710-e0aa-4fe9-85f9-f7660e85ad25"
      },
      "source": [
        "experimentar_LDA(n_feats=[1,2], X= x, Y = y)"
      ],
      "execution_count": 24,
      "outputs": [
        {
          "output_type": "execute_result",
          "data": {
            "text/html": [
              "<div>\n",
              "<style scoped>\n",
              "    .dataframe tbody tr th:only-of-type {\n",
              "        vertical-align: middle;\n",
              "    }\n",
              "\n",
              "    .dataframe tbody tr th {\n",
              "        vertical-align: top;\n",
              "    }\n",
              "\n",
              "    .dataframe thead th {\n",
              "        text-align: right;\n",
              "    }\n",
              "</style>\n",
              "<table border=\"1\" class=\"dataframe\">\n",
              "  <thead>\n",
              "    <tr style=\"text-align: right;\">\n",
              "      <th></th>\n",
              "      <th>CON_SEL</th>\n",
              "      <th>NUM_VAR</th>\n",
              "      <th>ERROR_VALIDACION</th>\n",
              "      <th>IC_STD_VALIDACION</th>\n",
              "    </tr>\n",
              "  </thead>\n",
              "  <tbody>\n",
              "    <tr>\n",
              "      <th>0</th>\n",
              "      <td>SI</td>\n",
              "      <td>1.0</td>\n",
              "      <td>0.939954</td>\n",
              "      <td>0.028752</td>\n",
              "    </tr>\n",
              "    <tr>\n",
              "      <th>1</th>\n",
              "      <td>SI</td>\n",
              "      <td>2.0</td>\n",
              "      <td>0.972899</td>\n",
              "      <td>0.001898</td>\n",
              "    </tr>\n",
              "  </tbody>\n",
              "</table>\n",
              "</div>"
            ],
            "text/plain": [
              "  CON_SEL  NUM_VAR  ERROR_VALIDACION  IC_STD_VALIDACION\n",
              "0      SI      1.0          0.939954           0.028752\n",
              "1      SI      2.0          0.972899           0.001898"
            ]
          },
          "metadata": {
            "tags": []
          },
          "execution_count": 24
        }
      ]
    },
    {
      "cell_type": "code",
      "metadata": {
        "colab": {
          "base_uri": "https://localhost:8080/",
          "height": 527
        },
        "id": "GvZbqzPwhUGy",
        "outputId": "4e43de3e-6f68-49e5-90a5-5a616d545ba2"
      },
      "source": [
        "df.corr()"
      ],
      "execution_count": 29,
      "outputs": [
        {
          "output_type": "execute_result",
          "data": {
            "text/html": [
              "<div>\n",
              "<style scoped>\n",
              "    .dataframe tbody tr th:only-of-type {\n",
              "        vertical-align: middle;\n",
              "    }\n",
              "\n",
              "    .dataframe tbody tr th {\n",
              "        vertical-align: top;\n",
              "    }\n",
              "\n",
              "    .dataframe thead th {\n",
              "        text-align: right;\n",
              "    }\n",
              "</style>\n",
              "<table border=\"1\" class=\"dataframe\">\n",
              "  <thead>\n",
              "    <tr style=\"text-align: right;\">\n",
              "      <th></th>\n",
              "      <th>Source Port</th>\n",
              "      <th>Destination Port</th>\n",
              "      <th>NAT Source Port</th>\n",
              "      <th>NAT Destination Port</th>\n",
              "      <th>Bytes</th>\n",
              "      <th>Bytes Sent</th>\n",
              "      <th>Bytes Received</th>\n",
              "      <th>Packets</th>\n",
              "      <th>Elapsed Time (sec)</th>\n",
              "      <th>pkts_sent</th>\n",
              "      <th>pkts_received</th>\n",
              "    </tr>\n",
              "  </thead>\n",
              "  <tbody>\n",
              "    <tr>\n",
              "      <th>Source Port</th>\n",
              "      <td>1.000000</td>\n",
              "      <td>-0.332246</td>\n",
              "      <td>0.145391</td>\n",
              "      <td>-0.024843</td>\n",
              "      <td>0.000221</td>\n",
              "      <td>-0.000931</td>\n",
              "      <td>0.001950</td>\n",
              "      <td>-0.001742</td>\n",
              "      <td>-0.046515</td>\n",
              "      <td>-0.001422</td>\n",
              "      <td>-0.001962</td>\n",
              "    </tr>\n",
              "    <tr>\n",
              "      <th>Destination Port</th>\n",
              "      <td>-0.332246</td>\n",
              "      <td>1.000000</td>\n",
              "      <td>-0.281676</td>\n",
              "      <td>0.410042</td>\n",
              "      <td>-0.005297</td>\n",
              "      <td>0.001675</td>\n",
              "      <td>-0.014684</td>\n",
              "      <td>-0.006063</td>\n",
              "      <td>0.023537</td>\n",
              "      <td>-0.002134</td>\n",
              "      <td>-0.010909</td>\n",
              "    </tr>\n",
              "    <tr>\n",
              "      <th>NAT Source Port</th>\n",
              "      <td>0.145391</td>\n",
              "      <td>-0.281676</td>\n",
              "      <td>1.000000</td>\n",
              "      <td>0.178435</td>\n",
              "      <td>0.010659</td>\n",
              "      <td>0.002242</td>\n",
              "      <td>0.020827</td>\n",
              "      <td>0.012633</td>\n",
              "      <td>0.141485</td>\n",
              "      <td>0.007180</td>\n",
              "      <td>0.018772</td>\n",
              "    </tr>\n",
              "    <tr>\n",
              "      <th>NAT Destination Port</th>\n",
              "      <td>-0.024843</td>\n",
              "      <td>0.410042</td>\n",
              "      <td>0.178435</td>\n",
              "      <td>1.000000</td>\n",
              "      <td>0.003975</td>\n",
              "      <td>0.007904</td>\n",
              "      <td>-0.003216</td>\n",
              "      <td>0.004605</td>\n",
              "      <td>0.219776</td>\n",
              "      <td>0.006136</td>\n",
              "      <td>0.001747</td>\n",
              "    </tr>\n",
              "    <tr>\n",
              "      <th>Bytes</th>\n",
              "      <td>0.000221</td>\n",
              "      <td>-0.005297</td>\n",
              "      <td>0.010659</td>\n",
              "      <td>0.003975</td>\n",
              "      <td>1.000000</td>\n",
              "      <td>0.933462</td>\n",
              "      <td>0.830225</td>\n",
              "      <td>0.974379</td>\n",
              "      <td>0.148834</td>\n",
              "      <td>0.966548</td>\n",
              "      <td>0.850209</td>\n",
              "    </tr>\n",
              "    <tr>\n",
              "      <th>Bytes Sent</th>\n",
              "      <td>-0.000931</td>\n",
              "      <td>0.001675</td>\n",
              "      <td>0.002242</td>\n",
              "      <td>0.007904</td>\n",
              "      <td>0.933462</td>\n",
              "      <td>1.000000</td>\n",
              "      <td>0.575047</td>\n",
              "      <td>0.887596</td>\n",
              "      <td>0.126039</td>\n",
              "      <td>0.973976</td>\n",
              "      <td>0.639098</td>\n",
              "    </tr>\n",
              "    <tr>\n",
              "      <th>Bytes Received</th>\n",
              "      <td>0.001950</td>\n",
              "      <td>-0.014684</td>\n",
              "      <td>0.020827</td>\n",
              "      <td>-0.003216</td>\n",
              "      <td>0.830225</td>\n",
              "      <td>0.575047</td>\n",
              "      <td>1.000000</td>\n",
              "      <td>0.843067</td>\n",
              "      <td>0.143601</td>\n",
              "      <td>0.690959</td>\n",
              "      <td>0.946039</td>\n",
              "    </tr>\n",
              "    <tr>\n",
              "      <th>Packets</th>\n",
              "      <td>-0.001742</td>\n",
              "      <td>-0.006063</td>\n",
              "      <td>0.012633</td>\n",
              "      <td>0.004605</td>\n",
              "      <td>0.974379</td>\n",
              "      <td>0.887596</td>\n",
              "      <td>0.843067</td>\n",
              "      <td>1.000000</td>\n",
              "      <td>0.147074</td>\n",
              "      <td>0.961286</td>\n",
              "      <td>0.916978</td>\n",
              "    </tr>\n",
              "    <tr>\n",
              "      <th>Elapsed Time (sec)</th>\n",
              "      <td>-0.046515</td>\n",
              "      <td>0.023537</td>\n",
              "      <td>0.141485</td>\n",
              "      <td>0.219776</td>\n",
              "      <td>0.148834</td>\n",
              "      <td>0.126039</td>\n",
              "      <td>0.143601</td>\n",
              "      <td>0.147074</td>\n",
              "      <td>1.000000</td>\n",
              "      <td>0.135101</td>\n",
              "      <td>0.143954</td>\n",
              "    </tr>\n",
              "    <tr>\n",
              "      <th>pkts_sent</th>\n",
              "      <td>-0.001422</td>\n",
              "      <td>-0.002134</td>\n",
              "      <td>0.007180</td>\n",
              "      <td>0.006136</td>\n",
              "      <td>0.966548</td>\n",
              "      <td>0.973976</td>\n",
              "      <td>0.690959</td>\n",
              "      <td>0.961286</td>\n",
              "      <td>0.135101</td>\n",
              "      <td>1.000000</td>\n",
              "      <td>0.771550</td>\n",
              "    </tr>\n",
              "    <tr>\n",
              "      <th>pkts_received</th>\n",
              "      <td>-0.001962</td>\n",
              "      <td>-0.010909</td>\n",
              "      <td>0.018772</td>\n",
              "      <td>0.001747</td>\n",
              "      <td>0.850209</td>\n",
              "      <td>0.639098</td>\n",
              "      <td>0.946039</td>\n",
              "      <td>0.916978</td>\n",
              "      <td>0.143954</td>\n",
              "      <td>0.771550</td>\n",
              "      <td>1.000000</td>\n",
              "    </tr>\n",
              "  </tbody>\n",
              "</table>\n",
              "</div>"
            ],
            "text/plain": [
              "                      Source Port  Destination Port  ...  pkts_sent  pkts_received\n",
              "Source Port              1.000000         -0.332246  ...  -0.001422      -0.001962\n",
              "Destination Port        -0.332246          1.000000  ...  -0.002134      -0.010909\n",
              "NAT Source Port          0.145391         -0.281676  ...   0.007180       0.018772\n",
              "NAT Destination Port    -0.024843          0.410042  ...   0.006136       0.001747\n",
              "Bytes                    0.000221         -0.005297  ...   0.966548       0.850209\n",
              "Bytes Sent              -0.000931          0.001675  ...   0.973976       0.639098\n",
              "Bytes Received           0.001950         -0.014684  ...   0.690959       0.946039\n",
              "Packets                 -0.001742         -0.006063  ...   0.961286       0.916978\n",
              "Elapsed Time (sec)      -0.046515          0.023537  ...   0.135101       0.143954\n",
              "pkts_sent               -0.001422         -0.002134  ...   1.000000       0.771550\n",
              "pkts_received           -0.001962         -0.010909  ...   0.771550       1.000000\n",
              "\n",
              "[11 rows x 11 columns]"
            ]
          },
          "metadata": {
            "tags": []
          },
          "execution_count": 29
        }
      ]
    },
    {
      "cell_type": "code",
      "metadata": {
        "colab": {
          "base_uri": "https://localhost:8080/",
          "height": 293
        },
        "id": "CDXCaTXVhjfn",
        "outputId": "4ef77cfe-293d-4629-d57f-f6f148a453a2"
      },
      "source": [
        "plt.matshow(x.corr())"
      ],
      "execution_count": 30,
      "outputs": [
        {
          "output_type": "execute_result",
          "data": {
            "text/plain": [
              "<matplotlib.image.AxesImage at 0x7fe2e5d6b1d0>"
            ]
          },
          "metadata": {
            "tags": []
          },
          "execution_count": 30
        },
        {
          "output_type": "display_data",
          "data": {
            "image/png": "[encoded data removed]",
            "text/plain": [
              "<Figure size 288x288 with 1 Axes>"
            ]
          },
          "metadata": {
            "tags": [],
            "needs_background": "light"
          }
        }
      ]
    },
    {
      "cell_type": "code",
      "metadata": {
        "id": "hbJrSYjNofCV"
      },
      "source": [
        "#ejercicio de código PCA\r\n",
        "from sklearn.decomposition import PCA\r\n",
        "def entrenamiento_pca_ext_caracteristicas(n_comp, X, Y):\r\n",
        "    \"\"\"\r\n",
        "    Esta función realiza la reducción de la dimensionalidad sobre el conjunto de\r\n",
        "    datos de entrenamiento, de acuerdo con las particiones especificadas usando PCA\r\n",
        "\r\n",
        "    Parámetros:\r\n",
        "    n_comp, int, Número de componentes para reducción\r\n",
        "    n_sets,int, Número de particiones\r\n",
        "    X: numpy Array de características\r\n",
        "    Y: numpy Array  Vector de etiquetas\r\n",
        "\r\n",
        "    Retorna: \r\n",
        "    ErrorValidacion: El valor medio de errores\r\n",
        "    IC_Validacion: Intervalo de confianza\r\n",
        "    T_ejec:  El  valor medio del tiempo de ejecución\r\n",
        "    \"\"\"  \r\n",
        "    #Implemetamos la metodología de validación \r\n",
        "    Errores = np.ones(5)\r\n",
        "    j = 0\r\n",
        "    kf = KFold(n_splits=5)\r\n",
        "    for train_index, test_index in kf.split(X):  \r\n",
        "        X_train, X_test = X.iloc[list(train_index)], X.iloc[list(test_index)]\r\n",
        "        y_train, y_test = Y.iloc[list(train_index)], Y.iloc[list(test_index)]\r\n",
        "        \r\n",
        "        # ¿es necesario estandarizacion de datos?\r\n",
        "        scaler = StandardScaler()\r\n",
        "        X_train = scaler.fit_transform(X_train)\r\n",
        "        X_test = scaler.transform(X_test)\r\n",
        "        #dejar el mismo nombre del objeto \r\n",
        "        pca = PCA(n_components=n_comp)\r\n",
        "        # para calcular costo computacional\r\n",
        "        # es recomendable usar el metodo que ajusta y transforma\r\n",
        "        X_train_pca = pca.fit_transform(X=X_train)        \r\n",
        "        # aca solo usar el metodo de transformar (ya que en el anterior el pca se ajusto)\r\n",
        "        X_test_pca = pca.transform(X=X_test)\r\n",
        "        # entrenar el modelo usando las caractieristicas transformadas por PCA\r\n",
        "        clf = svm.SVC(kernel=\"linear\", C=1)\r\n",
        "        clf.fit(X=X_train_pca, y=y_train)\r\n",
        "        Errores[j] = accuracy_score(y_true=y_test, y_pred=clf.predict(X=X_test_pca))\r\n",
        "        j+=1\r\n",
        "    return np.mean(Errores), np.std(Errores)"
      ],
      "execution_count": 11,
      "outputs": []
    },
    {
      "cell_type": "code",
      "metadata": {
        "id": "RsZpVKCVoz5b"
      },
      "source": [
        "#ejercicio de código\r\n",
        "from sklearn.model_selection import KFold\r\n",
        "\r\n",
        "def experimentar_PCA(n_feats, X, Y):\r\n",
        "    \"\"\"\r\n",
        "    Esta función realiza la comparación del desempeño de RFE utilizando diferente \r\n",
        "    número de feats y particionando el conjunto de datos en diferente número de \r\n",
        "    subconjuntos\r\n",
        "\r\n",
        "    Parámetros:\r\n",
        "    X (numpy.array), El arreglo numpy de características\r\n",
        "    Y (numpy.array), El vector de etiquetas\r\n",
        "    n_feats, Vector de números enteros que indica el número de características\r\n",
        "              que debe utilizar el modelo\r\n",
        "    n_sets, Vector de números enteros que indica el número de particiones\r\n",
        "\r\n",
        "    Retorna:  \r\n",
        "    - DataFrame con las columnas: CON_SEL, NUM_VAR, ERROR_VALIDACION, IC_STD_VALIDACION, \r\n",
        "    y T_EJECUCION. \r\n",
        "\r\n",
        "    \"\"\"\r\n",
        "    df = pd.DataFrame()\r\n",
        "    idx = 0\r\n",
        "    split_number = 5\r\n",
        "    \r\n",
        "    for f in n_feats:\r\n",
        "        #Implemetamos la metodología de validación \r\n",
        "        error, ic_error = entrenamiento_pca_ext_caracteristicas(n_comp=f, X=X,Y=Y)\r\n",
        "        df.loc[idx,'CON_SEL'] = 'SI'\r\n",
        "        df.loc[idx,'NUM_VAR'] = f\r\n",
        "        df.loc[idx,'ERROR_VALIDACION'] = error\r\n",
        "        df.loc[idx, 'IC_STD_VALIDACION'] = ic_error\r\n",
        "        idx+=1\r\n",
        "    return df"
      ],
      "execution_count": 12,
      "outputs": []
    },
    {
      "cell_type": "code",
      "metadata": {
        "id": "-eRSFyhAo4sD"
      },
      "source": [
        "experimentar_PCA(n_feats=[2,5,10,15,20], X= x, Y = y)"
      ],
      "execution_count": null,
      "outputs": []
    },
    {
      "cell_type": "code",
      "metadata": {
        "id": "933T1QxV7Cn4"
      },
      "source": [
        "##todo\r\n",
        "from sklearn.model_selection import KFold\r\n",
        "def entrenamiento_sin_seleccion_caracteristicas(splits, X, Y):\r\n",
        "    \"\"\"\r\n",
        "    Función que ejecuta el entrenamiento del modelo sin una selección particular\r\n",
        "    de las características\r\n",
        "\r\n",
        "      Parámetros:splits : numero de particiones  a realizar\r\n",
        "      Retorna:\r\n",
        "      1. El modelo entreando\r\n",
        "      2. El vector de errores\r\n",
        "      3. El Intervalo de confianza\r\n",
        "      4. El tiempo de procesamiento\r\n",
        "    \"\"\"\r\n",
        "    #Implemetamos la metodología de validación\r\n",
        "    Errores = np.ones(splits)\r\n",
        "    Score = np.ones(splits)\r\n",
        "    j = 0\r\n",
        "    kf = KFold(n_splits=splits)\r\n",
        "    for train_index, test_index in kf.split(X):\r\n",
        "        X_train, X_test = X.iloc[list(train_index)], X.iloc[list(test_index)]\r\n",
        "        y_train, y_test = Y.iloc[list(train_index)], Y.iloc[list(test_index)]\r\n",
        "        scaler = StandardScaler()\r\n",
        "        X_train = scaler.fit_transform(X_train)\r\n",
        "        X_test = scaler.transform(X_test)\r\n",
        "        #Creamos el clasificador SVM.\r\n",
        "        clf = svm.SVC(kernel=\"linear\", C=1)\r\n",
        "        #Aquí se entran y se valida el modelo sin hacer selección de características\r\n",
        "        ######\r\n",
        "        # Entrenamiento el modelo.\r\n",
        "        #Para calcular el costo computacional\r\n",
        "        clf.fit(X_train,y_train)\r\n",
        "        # Validación del modelo\r\n",
        "        Errores[j] = accuracy_score(y_true=y_test, y_pred=clf.predict(X_test))\r\n",
        "        j+=1\r\n",
        "\r\n",
        "    return clf, np.mean(Errores), np.std(Errores)"
      ],
      "execution_count": 16,
      "outputs": []
    },
    {
      "cell_type": "code",
      "metadata": {
        "id": "yQg02Hna7LTD"
      },
      "source": [
        "def recursive_feature_elimination_wrapper(estimator, feature_numbers, X,Y):\r\n",
        "    \"\"\"\r\n",
        "    Esta función es un envoltorio del objeto RFE de sklearn\r\n",
        "\r\n",
        "    Parámetros:\r\n",
        "    estimator(sklearn.svm.SVC), El estimador SVM\r\n",
        "    feature_numbers(int), El número de características a considerar\r\n",
        "    X (numpy.array), El arreglo numpy de características\r\n",
        "    Y (numpy.array), El vector de etiquetas\r\n",
        "\r\n",
        "    Retorna:\r\n",
        "    El modelo entrenado ()\r\n",
        "    La máscara de características seleccionada, array [longitud de caracterisitcas de X]\r\n",
        "    El rankeo de características, array [longitud de caracterisitcas de X]\r\n",
        "    El objeto RFE entrenado sobre el set reducido de características\r\n",
        "    El tiempo de ejecución\r\n",
        "    \"\"\"\r\n",
        "    rfe = RFE(estimator=estimator, n_features_to_select = feature_numbers, step=1)\r\n",
        "    rfe.fit(X=X, y=Y)\r\n",
        "    feature_mask = rfe.support_\r\n",
        "    features_rank = rfe.ranking_\r\n",
        "    estimator = rfe.estimator_\r\n",
        "\r\n",
        "    return rfe, feature_mask, features_rank, estimator"
      ],
      "execution_count": 17,
      "outputs": []
    },
    {
      "cell_type": "code",
      "metadata": {
        "id": "qa0OT9Hy7ODs"
      },
      "source": [
        "#ejercicio de código\r\n",
        "def experimentar(n_feats, n_sets, X, Y):\r\n",
        "    \"\"\"\r\n",
        "    Esta función realiza la comparación del desempeño de RFE utilizando diferente \r\n",
        "    número de feats y particionando el conjunto de datos en diferente número de \r\n",
        "    subconjuntos\r\n",
        "\r\n",
        "    Parámetros:\r\n",
        "    X (numpy.array), El arreglo numpy de características\r\n",
        "    Y (numpy.array), El vector de etiquetas\r\n",
        "    n_feats, Vector de números enteros que indica el número de características\r\n",
        "              que debe utilizar el modelo\r\n",
        "    n_sets, Vector de números enteros que indica el número de particiones\r\n",
        "\r\n",
        "    Retorna:  \r\n",
        "    - DataFrame con las columnas: CON_SEL, NUM_VAR, NUM_SPLITS, ERROR_VALIDACION, IC_STD_VALIDACION, \r\n",
        "    y T_EJECUCION. \r\n",
        "\r\n",
        "    \"\"\"\r\n",
        "    df = pd.DataFrame()\r\n",
        "    idx = 0\r\n",
        "    for split_number in n_sets: \r\n",
        "    #Sin selección de características\r\n",
        "        # se ignorar las otras salidas\r\n",
        "        _,err,ic= entrenamiento_sin_seleccion_caracteristicas(split_number, X,Y)  \r\n",
        "        df.loc[idx,'CON_SEL'] = 'NO'\r\n",
        "        df.loc[idx,'NUM_VAR'] = X.shape[1]\r\n",
        "        df.loc[idx,'NUM_SPLITS'] = split_number\r\n",
        "        df.loc[idx,'ERROR_VALIDACION'] = err\r\n",
        "        df.loc[idx,'IC_STD_VALIDACION'] = ic\r\n",
        "        idx+=1\r\n",
        "    print(\"termina experimentos sin selección\")\r\n",
        "    #Con selección de características\r\n",
        "    for f in n_feats:\r\n",
        "        for split_number in n_sets:\r\n",
        "            #Implemetamos la metodología de validación \r\n",
        "            Errores = np.ones(split_number)\r\n",
        "            Score = np.ones(split_number)\r\n",
        "            kf = KFold(n_splits=split_number) #StratifiedKFold()\r\n",
        "            j = 0\r\n",
        "            for train_index, test_index in kf.split(X):\r\n",
        "                \r\n",
        "                X_train, X_test = X.iloc[list(train_index)], X.iloc[list(test_index)]\r\n",
        "                y_train, y_test = Y.iloc[list(train_index)], Y.iloc[list(test_index)]\r\n",
        "                scaler = StandardScaler()\r\n",
        "                X_train = scaler.fit_transform(X_train)\r\n",
        "                X_test = scaler.transform(X_test)\r\n",
        "                \r\n",
        "                svc =  svm.SVC(kernel=\"linear\", C=1)\r\n",
        "                \r\n",
        "                # se ignorar las otras salidas\r\n",
        "                rfe, _, _, _, t = recursive_feature_elimination_wrapper(estimator=svc,feature_numbers=f, X=X_train,Y=y_train)\r\n",
        "            \r\n",
        "                Errores[j]=accuracy_score(y_true=y_test, y_pred=rfe.predict(X_test))\r\n",
        "                j+=1\r\n",
        "\r\n",
        "            df.loc[idx,'CON_SEL'] = 'SI'\r\n",
        "            df.loc[idx,'NUM_VAR'] = f\r\n",
        "            df.loc[idx,'NUM_SPLITS'] = split_number\r\n",
        "            df.loc[idx,'ERROR_VALIDACION'] = np.mean(Errores)\r\n",
        "            df.loc[idx, 'IC_STD_VALIDACION'] = np.std(Errores)\r\n",
        "            idx+=1\r\n",
        "    return df"
      ],
      "execution_count": 14,
      "outputs": []
    },
    {
      "cell_type": "code",
      "metadata": {
        "id": "OV7dq_0U9Dao"
      },
      "source": [
        "dfr = experimentar(n_feats = [3, 5, 10,15,20], n_sets = [5, 10], X= x, Y=y)"
      ],
      "execution_count": null,
      "outputs": []
    },
    {
      "cell_type": "code",
      "metadata": {
        "id": "-4PWDSVW7Xo9"
      },
      "source": [
        "dfr.sort_values(['ERROR_VALIDACION','T_EJECUCION'], ascending=[False, True])"
      ],
      "execution_count": null,
      "outputs": []
    },
    {
      "cell_type": "code",
      "metadata": {
        "id": "QnFt4Nao7a4I"
      },
      "source": [
        "svc =  SVC(kernel=\"linear\", C=1)\r\n",
        "rfe, feature_mask, _, _, _ = recursive_feature_elimination_wrapper(svc, 10, x,y)\r\n",
        "print(\"esta es la mascara (deberia ser solo valores True y False) \\n\", feature_mask)"
      ],
      "execution_count": null,
      "outputs": []
    },
    {
      "cell_type": "code",
      "metadata": {
        "id": "kWgdm9UX9KCO"
      },
      "source": [
        "### nuevo\r\n",
        "#from sklearn.feature_selection import SequentialFeatureSelector\r\n",
        "from sklearn.neighbors import KNeighborsClassifier\r\n",
        "knn = KNeighborsClassifier(n_neighbors=4)\r\n",
        "from mlxtend.feature_selection import SequentialFeatureSelector as SFS\r\n",
        "\r\n",
        "sfs1 = SFS(knn, \r\n",
        "           k_features=3, \r\n",
        "           forward=True, \r\n",
        "           floating=False, \r\n",
        "           verbose=2,\r\n",
        "           scoring='accuracy',\r\n",
        "           cv=0)\r\n",
        "\r\n",
        "sfs1 = sfs1.fit(x, y)\r\n",
        "sfs1.subsets_"
      ],
      "execution_count": null,
      "outputs": []
    },
    {
      "cell_type": "code",
      "metadata": {
        "id": "BDqyPO_g9T5J"
      },
      "source": [
        "### nuevo\r\n",
        "#from sklearn.feature_selection import SequentialFeatureSelector\r\n",
        "from sklearn.neighbors import KNeighborsClassifier\r\n",
        "knn = KNeighborsClassifier(n_neighbors=4)\r\n",
        "from mlxtend.feature_selection import SequentialFeatureSelector as SFS\r\n",
        "\r\n",
        "sfs1 = SFS(knn, \r\n",
        "           k_features=6, \r\n",
        "           forward=True, \r\n",
        "           floating=False, \r\n",
        "           verbose=2,\r\n",
        "           scoring='accuracy',\r\n",
        "           cv=0)\r\n",
        "\r\n",
        "sfs1 = sfs1.fit(x, y)\r\n",
        "sfs1.subsets_"
      ],
      "execution_count": null,
      "outputs": []
    },
    {
      "cell_type": "code",
      "metadata": {
        "id": "0-nhE2N19Vv9"
      },
      "source": [
        "### nuevo\r\n",
        "#from sklearn.feature_selection import SequentialFeatureSelector\r\n",
        "from sklearn.neighbors import KNeighborsClassifier\r\n",
        "knn = KNeighborsClassifier(n_neighbors=4)\r\n",
        "from mlxtend.feature_selection import SequentialFeatureSelector as SFS\r\n",
        "\r\n",
        "sfs1 = SFS(knn, \r\n",
        "           k_features=9, \r\n",
        "           forward=True, \r\n",
        "           floating=False, \r\n",
        "           verbose=2,\r\n",
        "           scoring='accuracy',\r\n",
        "           cv=0)\r\n",
        "\r\n",
        "sfs1 = sfs1.fit(x, y)\r\n",
        "sfs1.subsets_"
      ],
      "execution_count": null,
      "outputs": []
    },
    {
      "cell_type": "code",
      "metadata": {
        "id": "x10lsIYM9YB6"
      },
      "source": [
        "from sklearn.preprocessing import StandardScaler\r\n",
        "x = StandardScaler().fit_transform(x)\r\n",
        "from sklearn.decomposition import PCA\r\n",
        "pca = PCA(n_components=9)\r\n",
        "principalComponents = pca.fit_transform(x)\r\n",
        "principalDf = pd.DataFrame(data = principalComponents, columns = ['comp 1', 'comp2','comp 3', 'comp4','comp5', 'comp6','comp7', 'comp8','comp9'])\r\n",
        "print(principalDf)\r\n",
        "pca.explained_variance_ratio_"
      ],
      "execution_count": null,
      "outputs": []
    },
    {
      "cell_type": "code",
      "metadata": {
        "id": "hGBps0nZ9dTJ"
      },
      "source": [
        "from sklearn.preprocessing import StandardScaler\r\n",
        "x = StandardScaler().fit_transform(x)\r\n",
        "from sklearn.decomposition import PCA\r\n",
        "pca = PCA(n_components=6)\r\n",
        "principalComponents = pca.fit_transform(x)\r\n",
        "principalDf = pd.DataFrame(data = principalComponents, columns = ['comp 1', 'comp2','comp 3', 'comp4','comp5', 'comp6'])\r\n",
        "print(principalDf)\r\n",
        "pca.explained_variance_ratio_"
      ],
      "execution_count": null,
      "outputs": []
    },
    {
      "cell_type": "code",
      "metadata": {
        "id": "-TFcnvaH9ga4"
      },
      "source": [
        "from sklearn.preprocessing import StandardScaler\r\n",
        "x = StandardScaler().fit_transform(x)\r\n",
        "from sklearn.decomposition import PCA\r\n",
        "pca = PCA(n_components=3)\r\n",
        "principalComponents = pca.fit_transform(x)\r\n",
        "principalDf = pd.DataFrame(data = principalComponents, columns = ['comp 1', 'comp2','comp 3'])\r\n",
        "print(principalDf)\r\n",
        "pca.explained_variance_ratio_"
      ],
      "execution_count": null,
      "outputs": []
    }
  ]
}